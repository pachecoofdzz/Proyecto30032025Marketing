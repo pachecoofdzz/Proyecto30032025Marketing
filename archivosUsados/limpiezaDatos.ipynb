{
 "cells": [
  {
   "cell_type": "code",
   "execution_count": null,
   "metadata": {},
   "outputs": [],
   "source": [
    "# Hago todas las importaciones necesarias\n",
    "import pandas as pd\n",
    "import numpy as np\n",
    "import matplotlib.pyplot as plt\n",
    "import seaborn as sns"
   ]
  },
  {
   "cell_type": "code",
   "execution_count": 4,
   "metadata": {},
   "outputs": [],
   "source": [
    "# Cargo los datos leyendo el csv y uso on_bad_lines='skip' para saltar las líneas con errores o problemas\n",
    "df = pd.read_csv('../data/marketingcampaigns.csv', on_bad_lines='skip')"
   ]
  },
  {
   "cell_type": "code",
   "execution_count": 5,
   "metadata": {},
   "outputs": [
    {
     "data": {
      "text/html": [
       "<div>\n",
       "<style scoped>\n",
       "    .dataframe tbody tr th:only-of-type {\n",
       "        vertical-align: middle;\n",
       "    }\n",
       "\n",
       "    .dataframe tbody tr th {\n",
       "        vertical-align: top;\n",
       "    }\n",
       "\n",
       "    .dataframe thead th {\n",
       "        text-align: right;\n",
       "    }\n",
       "</style>\n",
       "<table border=\"1\" class=\"dataframe\">\n",
       "  <thead>\n",
       "    <tr style=\"text-align: right;\">\n",
       "      <th></th>\n",
       "      <th>campaign_name</th>\n",
       "      <th>start_date</th>\n",
       "      <th>end_date</th>\n",
       "      <th>budget</th>\n",
       "      <th>roi</th>\n",
       "      <th>type</th>\n",
       "      <th>target_audience</th>\n",
       "      <th>channel</th>\n",
       "      <th>conversion_rate</th>\n",
       "      <th>revenue</th>\n",
       "    </tr>\n",
       "  </thead>\n",
       "  <tbody>\n",
       "    <tr>\n",
       "      <th>0</th>\n",
       "      <td>Public-key multi-tasking throughput</td>\n",
       "      <td>2023-04-01</td>\n",
       "      <td>2024-02-23</td>\n",
       "      <td>8082.3</td>\n",
       "      <td>0.35</td>\n",
       "      <td>email</td>\n",
       "      <td>B2B</td>\n",
       "      <td>organic</td>\n",
       "      <td>0.40</td>\n",
       "      <td>709593.48</td>\n",
       "    </tr>\n",
       "    <tr>\n",
       "      <th>1</th>\n",
       "      <td>De-engineered analyzing task-force</td>\n",
       "      <td>2023-02-15</td>\n",
       "      <td>2024-04-22</td>\n",
       "      <td>17712.98</td>\n",
       "      <td>0.74</td>\n",
       "      <td>email</td>\n",
       "      <td>B2C</td>\n",
       "      <td>promotion</td>\n",
       "      <td>0.66</td>\n",
       "      <td>516609.10</td>\n",
       "    </tr>\n",
       "    <tr>\n",
       "      <th>2</th>\n",
       "      <td>Balanced solution-oriented Local Area Network</td>\n",
       "      <td>2022-12-20</td>\n",
       "      <td>2023-10-11</td>\n",
       "      <td>84643.1</td>\n",
       "      <td>0.37</td>\n",
       "      <td>podcast</td>\n",
       "      <td>B2B</td>\n",
       "      <td>paid</td>\n",
       "      <td>0.28</td>\n",
       "      <td>458227.42</td>\n",
       "    </tr>\n",
       "    <tr>\n",
       "      <th>3</th>\n",
       "      <td>Distributed real-time methodology</td>\n",
       "      <td>2022-09-26</td>\n",
       "      <td>2023-09-27</td>\n",
       "      <td>14589.75</td>\n",
       "      <td>0.47</td>\n",
       "      <td>webinar</td>\n",
       "      <td>B2B</td>\n",
       "      <td>organic</td>\n",
       "      <td>0.19</td>\n",
       "      <td>89958.73</td>\n",
       "    </tr>\n",
       "    <tr>\n",
       "      <th>4</th>\n",
       "      <td>Front-line executive infrastructure</td>\n",
       "      <td>2023-07-07</td>\n",
       "      <td>2024-05-15</td>\n",
       "      <td>39291.9</td>\n",
       "      <td>0.30</td>\n",
       "      <td>social media</td>\n",
       "      <td>B2B</td>\n",
       "      <td>promotion</td>\n",
       "      <td>0.81</td>\n",
       "      <td>47511.35</td>\n",
       "    </tr>\n",
       "  </tbody>\n",
       "</table>\n",
       "</div>"
      ],
      "text/plain": [
       "                                   campaign_name  start_date    end_date  \\\n",
       "0            Public-key multi-tasking throughput  2023-04-01  2024-02-23   \n",
       "1             De-engineered analyzing task-force  2023-02-15  2024-04-22   \n",
       "2  Balanced solution-oriented Local Area Network  2022-12-20  2023-10-11   \n",
       "3              Distributed real-time methodology  2022-09-26  2023-09-27   \n",
       "4            Front-line executive infrastructure  2023-07-07  2024-05-15   \n",
       "\n",
       "     budget   roi          type target_audience    channel  conversion_rate  \\\n",
       "0    8082.3  0.35         email             B2B    organic             0.40   \n",
       "1  17712.98  0.74         email             B2C  promotion             0.66   \n",
       "2   84643.1  0.37       podcast             B2B       paid             0.28   \n",
       "3  14589.75  0.47       webinar             B2B    organic             0.19   \n",
       "4   39291.9  0.30  social media             B2B  promotion             0.81   \n",
       "\n",
       "     revenue  \n",
       "0  709593.48  \n",
       "1  516609.10  \n",
       "2  458227.42  \n",
       "3   89958.73  \n",
       "4   47511.35  "
      ]
     },
     "execution_count": 5,
     "metadata": {},
     "output_type": "execute_result"
    }
   ],
   "source": [
    "# Muestro las primeras filas del dataframe\n",
    "df.head(5)"
   ]
  },
  {
   "cell_type": "code",
   "execution_count": 6,
   "metadata": {},
   "outputs": [
    {
     "name": "stdout",
     "output_type": "stream",
     "text": [
      "<class 'pandas.core.frame.DataFrame'>\n",
      "RangeIndex: 1032 entries, 0 to 1031\n",
      "Data columns (total 10 columns):\n",
      " #   Column           Non-Null Count  Dtype  \n",
      "---  ------           --------------  -----  \n",
      " 0   campaign_name    1032 non-null   object \n",
      " 1   start_date       1031 non-null   object \n",
      " 2   end_date         1030 non-null   object \n",
      " 3   budget           1029 non-null   object \n",
      " 4   roi              1028 non-null   float64\n",
      " 5   type             1031 non-null   object \n",
      " 6   target_audience  1030 non-null   object \n",
      " 7   channel          1031 non-null   object \n",
      " 8   conversion_rate  1028 non-null   float64\n",
      " 9   revenue          1029 non-null   float64\n",
      "dtypes: float64(3), object(7)\n",
      "memory usage: 80.8+ KB\n"
     ]
    }
   ],
   "source": [
    "# Muestro información del dataframe\n",
    "df.info()"
   ]
  },
  {
   "cell_type": "code",
   "execution_count": 7,
   "metadata": {},
   "outputs": [
    {
     "data": {
      "text/html": [
       "<div>\n",
       "<style scoped>\n",
       "    .dataframe tbody tr th:only-of-type {\n",
       "        vertical-align: middle;\n",
       "    }\n",
       "\n",
       "    .dataframe tbody tr th {\n",
       "        vertical-align: top;\n",
       "    }\n",
       "\n",
       "    .dataframe thead th {\n",
       "        text-align: right;\n",
       "    }\n",
       "</style>\n",
       "<table border=\"1\" class=\"dataframe\">\n",
       "  <thead>\n",
       "    <tr style=\"text-align: right;\">\n",
       "      <th></th>\n",
       "      <th>roi</th>\n",
       "      <th>conversion_rate</th>\n",
       "      <th>revenue</th>\n",
       "    </tr>\n",
       "  </thead>\n",
       "  <tbody>\n",
       "    <tr>\n",
       "      <th>count</th>\n",
       "      <td>1028.000000</td>\n",
       "      <td>1028.000000</td>\n",
       "      <td>1029.000000</td>\n",
       "    </tr>\n",
       "    <tr>\n",
       "      <th>mean</th>\n",
       "      <td>0.533804</td>\n",
       "      <td>0.541936</td>\n",
       "      <td>511591.195277</td>\n",
       "    </tr>\n",
       "    <tr>\n",
       "      <th>std</th>\n",
       "      <td>0.261869</td>\n",
       "      <td>0.267353</td>\n",
       "      <td>287292.729847</td>\n",
       "    </tr>\n",
       "    <tr>\n",
       "      <th>min</th>\n",
       "      <td>-0.200000</td>\n",
       "      <td>0.000000</td>\n",
       "      <td>108.210000</td>\n",
       "    </tr>\n",
       "    <tr>\n",
       "      <th>25%</th>\n",
       "      <td>0.310000</td>\n",
       "      <td>0.300000</td>\n",
       "      <td>267820.250000</td>\n",
       "    </tr>\n",
       "    <tr>\n",
       "      <th>50%</th>\n",
       "      <td>0.530000</td>\n",
       "      <td>0.550000</td>\n",
       "      <td>518001.770000</td>\n",
       "    </tr>\n",
       "    <tr>\n",
       "      <th>75%</th>\n",
       "      <td>0.760000</td>\n",
       "      <td>0.770000</td>\n",
       "      <td>765775.140000</td>\n",
       "    </tr>\n",
       "    <tr>\n",
       "      <th>max</th>\n",
       "      <td>0.990000</td>\n",
       "      <td>1.500000</td>\n",
       "      <td>999712.490000</td>\n",
       "    </tr>\n",
       "  </tbody>\n",
       "</table>\n",
       "</div>"
      ],
      "text/plain": [
       "               roi  conversion_rate        revenue\n",
       "count  1028.000000      1028.000000    1029.000000\n",
       "mean      0.533804         0.541936  511591.195277\n",
       "std       0.261869         0.267353  287292.729847\n",
       "min      -0.200000         0.000000     108.210000\n",
       "25%       0.310000         0.300000  267820.250000\n",
       "50%       0.530000         0.550000  518001.770000\n",
       "75%       0.760000         0.770000  765775.140000\n",
       "max       0.990000         1.500000  999712.490000"
      ]
     },
     "execution_count": 7,
     "metadata": {},
     "output_type": "execute_result"
    }
   ],
   "source": [
    "# Muestro estadísticas descriptivas del dataframe\n",
    "df.describe()"
   ]
  },
  {
   "cell_type": "code",
   "execution_count": 8,
   "metadata": {},
   "outputs": [],
   "source": [
    "# Elimino filas con valores NaN (not a number) en las columnas\n",
    "df_limpioNulos = df.dropna(subset=['campaign_name', 'start_date', 'end_date', 'budget', 'roi', 'type', 'target_audience', 'channel', 'conversion_rate', 'revenue'])"
   ]
  },
  {
   "cell_type": "code",
   "execution_count": 9,
   "metadata": {},
   "outputs": [],
   "source": [
    "# Elimino filas duplicadas en el dataframe\n",
    "df_limpioDuplicados = df_limpioNulos.drop_duplicates()"
   ]
  },
  {
   "cell_type": "code",
   "execution_count": 10,
   "metadata": {},
   "outputs": [
    {
     "data": {
      "text/plain": [
       "(1006, 10)"
      ]
     },
     "execution_count": 10,
     "metadata": {},
     "output_type": "execute_result"
    }
   ],
   "source": [
    "# Muestro la cantidad de filas y columnas del dataframe limpio\n",
    "df_limpioDuplicados.shape"
   ]
  },
  {
   "cell_type": "code",
   "execution_count": 11,
   "metadata": {},
   "outputs": [
    {
     "name": "stderr",
     "output_type": "stream",
     "text": [
      "C:\\Users\\oscar\\AppData\\Local\\Temp\\ipykernel_15816\\3852627120.py:2: SettingWithCopyWarning: \n",
      "A value is trying to be set on a copy of a slice from a DataFrame.\n",
      "Try using .loc[row_indexer,col_indexer] = value instead\n",
      "\n",
      "See the caveats in the documentation: https://pandas.pydata.org/pandas-docs/stable/user_guide/indexing.html#returning-a-view-versus-a-copy\n",
      "  df_limpioDuplicados['start_date'] = pd.to_datetime(df_limpioDuplicados['start_date'], errors='coerce')\n",
      "C:\\Users\\oscar\\AppData\\Local\\Temp\\ipykernel_15816\\3852627120.py:3: SettingWithCopyWarning: \n",
      "A value is trying to be set on a copy of a slice from a DataFrame.\n",
      "Try using .loc[row_indexer,col_indexer] = value instead\n",
      "\n",
      "See the caveats in the documentation: https://pandas.pydata.org/pandas-docs/stable/user_guide/indexing.html#returning-a-view-versus-a-copy\n",
      "  df_limpioDuplicados['end_date'] = pd.to_datetime(df_limpioDuplicados['end_date'], errors='coerce')\n"
     ]
    }
   ],
   "source": [
    "# Corrijo formato de fechas usando to_datetime\n",
    "df_limpioDuplicados['start_date'] = pd.to_datetime(df_limpioDuplicados['start_date'], errors='coerce')\n",
    "df_limpioDuplicados['end_date'] = pd.to_datetime(df_limpioDuplicados['end_date'], errors='coerce')"
   ]
  },
  {
   "cell_type": "code",
   "execution_count": 12,
   "metadata": {},
   "outputs": [
    {
     "name": "stderr",
     "output_type": "stream",
     "text": [
      "C:\\Users\\oscar\\AppData\\Local\\Temp\\ipykernel_15816\\1163576364.py:2: SettingWithCopyWarning: \n",
      "A value is trying to be set on a copy of a slice from a DataFrame.\n",
      "Try using .loc[row_indexer,col_indexer] = value instead\n",
      "\n",
      "See the caveats in the documentation: https://pandas.pydata.org/pandas-docs/stable/user_guide/indexing.html#returning-a-view-versus-a-copy\n",
      "  df_limpioDuplicados['budget'] = pd.to_numeric(df_limpioDuplicados['budget'], errors='coerce')\n",
      "C:\\Users\\oscar\\AppData\\Local\\Temp\\ipykernel_15816\\1163576364.py:3: SettingWithCopyWarning: \n",
      "A value is trying to be set on a copy of a slice from a DataFrame.\n",
      "Try using .loc[row_indexer,col_indexer] = value instead\n",
      "\n",
      "See the caveats in the documentation: https://pandas.pydata.org/pandas-docs/stable/user_guide/indexing.html#returning-a-view-versus-a-copy\n",
      "  df_limpioDuplicados['roi'] = pd.to_numeric(df_limpioDuplicados['roi'], errors='coerce')\n",
      "C:\\Users\\oscar\\AppData\\Local\\Temp\\ipykernel_15816\\1163576364.py:4: SettingWithCopyWarning: \n",
      "A value is trying to be set on a copy of a slice from a DataFrame.\n",
      "Try using .loc[row_indexer,col_indexer] = value instead\n",
      "\n",
      "See the caveats in the documentation: https://pandas.pydata.org/pandas-docs/stable/user_guide/indexing.html#returning-a-view-versus-a-copy\n",
      "  df_limpioDuplicados['conversion_rate'] = pd.to_numeric(df_limpioDuplicados['conversion_rate'], errors='coerce')\n",
      "C:\\Users\\oscar\\AppData\\Local\\Temp\\ipykernel_15816\\1163576364.py:5: SettingWithCopyWarning: \n",
      "A value is trying to be set on a copy of a slice from a DataFrame.\n",
      "Try using .loc[row_indexer,col_indexer] = value instead\n",
      "\n",
      "See the caveats in the documentation: https://pandas.pydata.org/pandas-docs/stable/user_guide/indexing.html#returning-a-view-versus-a-copy\n",
      "  df_limpioDuplicados['revenue'] = pd.to_numeric(df_limpioDuplicados['revenue'], errors='coerce')\n"
     ]
    }
   ],
   "source": [
    "# Corrijo formato numérico (budget, roi, conversion_rate, revenue) \n",
    "df_limpioDuplicados['budget'] = pd.to_numeric(df_limpioDuplicados['budget'], errors='coerce')\n",
    "df_limpioDuplicados['roi'] = pd.to_numeric(df_limpioDuplicados['roi'], errors='coerce') \n",
    "df_limpioDuplicados['conversion_rate'] = pd.to_numeric(df_limpioDuplicados['conversion_rate'], errors='coerce')\n",
    "df_limpioDuplicados['revenue'] = pd.to_numeric(df_limpioDuplicados['revenue'], errors='coerce')"
   ]
  },
  {
   "cell_type": "code",
   "execution_count": 13,
   "metadata": {},
   "outputs": [
    {
     "name": "stderr",
     "output_type": "stream",
     "text": [
      "C:\\Users\\oscar\\AppData\\Local\\Temp\\ipykernel_15816\\1725214701.py:2: SettingWithCopyWarning: \n",
      "A value is trying to be set on a copy of a slice from a DataFrame.\n",
      "Try using .loc[row_indexer,col_indexer] = value instead\n",
      "\n",
      "See the caveats in the documentation: https://pandas.pydata.org/pandas-docs/stable/user_guide/indexing.html#returning-a-view-versus-a-copy\n",
      "  df_limpioDuplicados['campaign_name'] = df_limpioDuplicados['campaign_name'].str.strip().str.lower()\n"
     ]
    }
   ],
   "source": [
    "# De los nombres de las campañas voy a hacer un strip  ( elimino espacios al principio y al final) y lower (lo paso a minúsculas)\n",
    "df_limpioDuplicados['campaign_name'] = df_limpioDuplicados['campaign_name'].str.strip().str.lower()"
   ]
  },
  {
   "cell_type": "code",
   "execution_count": 14,
   "metadata": {},
   "outputs": [
    {
     "name": "stderr",
     "output_type": "stream",
     "text": [
      "C:\\Users\\oscar\\AppData\\Local\\Temp\\ipykernel_15816\\904157375.py:2: SettingWithCopyWarning: \n",
      "A value is trying to be set on a copy of a slice from a DataFrame.\n",
      "Try using .loc[row_indexer,col_indexer] = value instead\n",
      "\n",
      "See the caveats in the documentation: https://pandas.pydata.org/pandas-docs/stable/user_guide/indexing.html#returning-a-view-versus-a-copy\n",
      "  df_limpioDuplicados['type'] = df_limpioDuplicados['type'].str.strip().str.lower()\n",
      "C:\\Users\\oscar\\AppData\\Local\\Temp\\ipykernel_15816\\904157375.py:4: SettingWithCopyWarning: \n",
      "A value is trying to be set on a copy of a slice from a DataFrame.\n",
      "Try using .loc[row_indexer,col_indexer] = value instead\n",
      "\n",
      "See the caveats in the documentation: https://pandas.pydata.org/pandas-docs/stable/user_guide/indexing.html#returning-a-view-versus-a-copy\n",
      "  df_limpioDuplicados['target_audience'] = df_limpioDuplicados['target_audience'].str.strip().str.upper()\n",
      "C:\\Users\\oscar\\AppData\\Local\\Temp\\ipykernel_15816\\904157375.py:6: SettingWithCopyWarning: \n",
      "A value is trying to be set on a copy of a slice from a DataFrame.\n",
      "Try using .loc[row_indexer,col_indexer] = value instead\n",
      "\n",
      "See the caveats in the documentation: https://pandas.pydata.org/pandas-docs/stable/user_guide/indexing.html#returning-a-view-versus-a-copy\n",
      "  df_limpioDuplicados['channel'] = df_limpioDuplicados['channel'].str.strip().str.lower()\n"
     ]
    }
   ],
   "source": [
    "# De la columna type limpio los datos\n",
    "df_limpioDuplicados['type'] = df_limpioDuplicados['type'].str.strip().str.lower()\n",
    "# De la columna target_audience limpio los datos\n",
    "df_limpioDuplicados['target_audience'] = df_limpioDuplicados['target_audience'].str.strip().str.upper()\n",
    "# De la columna channel limpio los datos\n",
    "df_limpioDuplicados['channel'] = df_limpioDuplicados['channel'].str.strip().str.lower()"
   ]
  },
  {
   "cell_type": "code",
   "execution_count": null,
   "metadata": {},
   "outputs": [
    {
     "data": {
      "text/plain": [
       "array(['organic', 'promotion', 'paid', 'referral'], dtype=object)"
      ]
     },
     "execution_count": 15,
     "metadata": {},
     "output_type": "execute_result"
    }
   ],
   "source": [
    "# Compruebo los valores únicos\n",
    "df_limpioDuplicados['campaign_name'].unique()\n",
    "df_limpioDuplicados['type'].unique()\n",
    "df_limpioDuplicados['target_audience'].unique()\n",
    "df_limpioDuplicados['channel'].unique()"
   ]
  },
  {
   "cell_type": "code",
   "execution_count": 19,
   "metadata": {},
   "outputs": [
    {
     "name": "stdout",
     "output_type": "stream",
     "text": [
      "50005.4675\n"
     ]
    }
   ],
   "source": [
    "# Manejar valores atípicos \n",
    "# Utilizo los cuartiles para detectar valores atípicos en la columna budget\n",
    "\n",
    "# Con el cuartil 0,25 saco el 25% de los datos y con el cuartil 0,75 saco el 75% de los datos\n",
    "Q1_budget = df_limpioDuplicados['budget'].quantile(0.25)\n",
    "Q3_budget = df_limpioDuplicados['budget'].quantile(0.75)\n",
    "# Calculo el rango intercuartílico (IQR) restando Q1 de Q3 y saco la amplitud del rango central de los datos\n",
    "IQR_budget = Q3_budget - Q1_budget\n",
    "print(IQR_budget)"
   ]
  },
  {
   "cell_type": "code",
   "execution_count": 22,
   "metadata": {},
   "outputs": [
    {
     "name": "stdout",
     "output_type": "stream",
     "text": [
      "Número de outliers por cada columna: \n",
      "budget    1\n",
      "roi       0\n",
      "dtype: int64\n"
     ]
    }
   ],
   "source": [
    "# Identifico outliers\n",
    "# Se calcula restando 1.5 veces el IQR al primer cuartil (los datos que estén por debajo son datos atípicos)\n",
    "lower_bound_budget = Q1_budget - 1.5 * IQR_budget\n",
    "# Se calcula sumando 1.5 veces el IQR al tercer cuartil (los datos que estén por encima son datos atípicos)\n",
    "upper_bound_budget = Q3_budget + 1.5 * IQR_budget\n",
    "\n",
    "# Creo una variable llamada outliers que contiene los datos que se encuentren menor del limite inferior o mayor del limite superior\n",
    "outliers = ((df_limpioDuplicados[['budget', 'roi']] < lower_bound_budget) | (df_limpioDuplicados[['budget', 'roi']] > upper_bound_budget))\n",
    "\n",
    "print(\"Número de outliers por cada columna: \")\n",
    "print(outliers.sum())\n"
   ]
  },
  {
   "cell_type": "code",
   "execution_count": 23,
   "metadata": {},
   "outputs": [
    {
     "name": "stderr",
     "output_type": "stream",
     "text": [
      "C:\\Users\\oscar\\AppData\\Local\\Temp\\ipykernel_15816\\3467697962.py:3: SettingWithCopyWarning: \n",
      "A value is trying to be set on a copy of a slice from a DataFrame.\n",
      "Try using .loc[row_indexer,col_indexer] = value instead\n",
      "\n",
      "See the caveats in the documentation: https://pandas.pydata.org/pandas-docs/stable/user_guide/indexing.html#returning-a-view-versus-a-copy\n",
      "  df_limpioDuplicados['duracionCampaña'] = (df_limpioDuplicados['end_date'] - df_limpioDuplicados['start_date']).dt.days\n"
     ]
    }
   ],
   "source": [
    "# Creo nuevas columnas que me parecen intresantes para el análisis\n",
    "# Creo la columna duracionCampaña que contiene la duración de la campaña en días\n",
    "df_limpioDuplicados['duracionCampaña'] = (df_limpioDuplicados['end_date'] - df_limpioDuplicados['start_date']).dt.days"
   ]
  },
  {
   "cell_type": "code",
   "execution_count": 24,
   "metadata": {},
   "outputs": [
    {
     "name": "stderr",
     "output_type": "stream",
     "text": [
      "C:\\Users\\oscar\\AppData\\Local\\Temp\\ipykernel_15816\\4203548285.py:2: SettingWithCopyWarning: \n",
      "A value is trying to be set on a copy of a slice from a DataFrame.\n",
      "Try using .loc[row_indexer,col_indexer] = value instead\n",
      "\n",
      "See the caveats in the documentation: https://pandas.pydata.org/pandas-docs/stable/user_guide/indexing.html#returning-a-view-versus-a-copy\n",
      "  df_limpioDuplicados['roiAjustado'] = df_limpioDuplicados['roi'] - df_limpioDuplicados['duracionCampaña']\n"
     ]
    }
   ],
   "source": [
    "# Creo la columna roiAjustado que es el roi menos la duracion de la campaña\n",
    "df_limpioDuplicados['roiAjustado'] = df_limpioDuplicados['roi'] - df_limpioDuplicados['duracionCampaña']"
   ]
  },
  {
   "cell_type": "code",
   "execution_count": 25,
   "metadata": {},
   "outputs": [
    {
     "name": "stderr",
     "output_type": "stream",
     "text": [
      "C:\\Users\\oscar\\AppData\\Local\\Temp\\ipykernel_15816\\1991847902.py:2: SettingWithCopyWarning: \n",
      "A value is trying to be set on a copy of a slice from a DataFrame.\n",
      "Try using .loc[row_indexer,col_indexer] = value instead\n",
      "\n",
      "See the caveats in the documentation: https://pandas.pydata.org/pandas-docs/stable/user_guide/indexing.html#returning-a-view-versus-a-copy\n",
      "  df_limpioDuplicados['eficienciaCosto'] = df_limpioDuplicados['revenue'] - df_limpioDuplicados['budget']\n"
     ]
    }
   ],
   "source": [
    "# Creo la columna eficiencia de costo que es el revenue menos el budget\n",
    "df_limpioDuplicados['eficienciaCosto'] = df_limpioDuplicados['revenue'] - df_limpioDuplicados['budget']"
   ]
  },
  {
   "cell_type": "code",
   "execution_count": 28,
   "metadata": {},
   "outputs": [
    {
     "name": "stdout",
     "output_type": "stream",
     "text": [
      "<class 'pandas.core.frame.DataFrame'>\n",
      "Index: 1006 entries, 0 to 1031\n",
      "Data columns (total 13 columns):\n",
      " #   Column           Non-Null Count  Dtype         \n",
      "---  ------           --------------  -----         \n",
      " 0   campaign_name    1006 non-null   object        \n",
      " 1   start_date       1005 non-null   datetime64[ns]\n",
      " 2   end_date         1005 non-null   datetime64[ns]\n",
      " 3   budget           1006 non-null   float64       \n",
      " 4   roi              1006 non-null   float64       \n",
      " 5   type             1006 non-null   object        \n",
      " 6   target_audience  1006 non-null   object        \n",
      " 7   channel          1006 non-null   object        \n",
      " 8   conversion_rate  1006 non-null   float64       \n",
      " 9   revenue          1006 non-null   float64       \n",
      " 10  duracionCampaña  1005 non-null   float64       \n",
      " 11  roiAjustado      1005 non-null   float64       \n",
      " 12  eficienciaCosto  1006 non-null   float64       \n",
      "dtypes: datetime64[ns](2), float64(7), object(4)\n",
      "memory usage: 110.0+ KB\n"
     ]
    }
   ],
   "source": [
    "# Verifico las columnas creadas anteriormente\n",
    "df_limpioDuplicados.info()"
   ]
  },
  {
   "cell_type": "code",
   "execution_count": 32,
   "metadata": {},
   "outputs": [
    {
     "name": "stderr",
     "output_type": "stream",
     "text": [
      "C:\\Users\\oscar\\AppData\\Local\\Temp\\ipykernel_15816\\2427835700.py:2: SettingWithCopyWarning: \n",
      "A value is trying to be set on a copy of a slice from a DataFrame.\n",
      "Try using .loc[row_indexer,col_indexer] = value instead\n",
      "\n",
      "See the caveats in the documentation: https://pandas.pydata.org/pandas-docs/stable/user_guide/indexing.html#returning-a-view-versus-a-copy\n",
      "  df_limpioDuplicados['estacionesInicio'] = df_limpioDuplicados['start_date'].dt.quarter\n"
     ]
    }
   ],
   "source": [
    "# Creo una columna que sea estaciones para sacar un quarter de la columna start_date\n",
    "df_limpioDuplicados['estacionesInicio'] = df_limpioDuplicados['start_date'].dt.quarter"
   ]
  },
  {
   "cell_type": "code",
   "execution_count": 34,
   "metadata": {},
   "outputs": [
    {
     "name": "stderr",
     "output_type": "stream",
     "text": [
      "C:\\Users\\oscar\\AppData\\Local\\Temp\\ipykernel_15816\\3499054154.py:2: SettingWithCopyWarning: \n",
      "A value is trying to be set on a copy of a slice from a DataFrame.\n",
      "Try using .loc[row_indexer,col_indexer] = value instead\n",
      "\n",
      "See the caveats in the documentation: https://pandas.pydata.org/pandas-docs/stable/user_guide/indexing.html#returning-a-view-versus-a-copy\n",
      "  df_limpioDuplicados['mesInicio'] = df_limpioDuplicados['start_date'].dt.month_name()\n"
     ]
    }
   ],
   "source": [
    "# Creo una columna llamada mesInicio con el nombre del mes de inicio\n",
    "df_limpioDuplicados['mesInicio'] = df_limpioDuplicados['start_date'].dt.month_name()"
   ]
  },
  {
   "cell_type": "code",
   "execution_count": 38,
   "metadata": {},
   "outputs": [
    {
     "name": "stderr",
     "output_type": "stream",
     "text": [
      "C:\\Users\\oscar\\AppData\\Local\\Temp\\ipykernel_15816\\1534918392.py:2: SettingWithCopyWarning: \n",
      "A value is trying to be set on a copy of a slice from a DataFrame.\n",
      "Try using .loc[row_indexer,col_indexer] = value instead\n",
      "\n",
      "See the caveats in the documentation: https://pandas.pydata.org/pandas-docs/stable/user_guide/indexing.html#returning-a-view-versus-a-copy\n",
      "  df_limpioDuplicados['roiDiario'] = df_limpioDuplicados['roi'] / df_limpioDuplicados['duracionCampaña']\n"
     ]
    }
   ],
   "source": [
    "# Creo una columna llamada roiDiario que es el roi entre la duracion de la campaña\n",
    "df_limpioDuplicados['roiDiario'] = df_limpioDuplicados['roi'] / df_limpioDuplicados['duracionCampaña']"
   ]
  },
  {
   "cell_type": "code",
   "execution_count": 45,
   "metadata": {},
   "outputs": [
    {
     "name": "stdout",
     "output_type": "stream",
     "text": [
      "<bound method DataFrame.isnull of                                       campaign_name start_date   end_date  \\\n",
      "0               public-key multi-tasking throughput 2023-04-01 2024-02-23   \n",
      "1                de-engineered analyzing task-force 2023-02-15 2024-04-22   \n",
      "2     balanced solution-oriented local area network 2022-12-20 2023-10-11   \n",
      "3                 distributed real-time methodology 2022-09-26 2023-09-27   \n",
      "4               front-line executive infrastructure 2023-07-07 2024-05-15   \n",
      "...                                             ...        ...        ...   \n",
      "1007                             duplicate campaign 2023-04-01 2024-02-23   \n",
      "1008                                 outlier budget 2023-07-01 2024-03-01   \n",
      "1025                                future campaign 2025-01-01 2025-06-01   \n",
      "1030                              overlapping dates 2023-03-01 2022-12-31   \n",
      "1031                           too many conversions 2023-05-01 2023-11-01   \n",
      "\n",
      "          budget   roi          type target_audience    channel  \\\n",
      "0        8082.30  0.35         email             B2B    organic   \n",
      "1       17712.98  0.74         email             B2C  promotion   \n",
      "2       84643.10  0.37       podcast             B2B       paid   \n",
      "3       14589.75  0.47       webinar             B2B    organic   \n",
      "4       39291.90  0.30  social media             B2B  promotion   \n",
      "...          ...   ...           ...             ...        ...   \n",
      "1007     8082.30  0.35         email             B2B    organic   \n",
      "1008  9999999.00  0.10         email             B2B  promotion   \n",
      "1025    75000.00  0.90       webinar             B2C  promotion   \n",
      "1030    60000.00  0.60       webinar             B2B       paid   \n",
      "1031    40000.00  0.80  social media             B2C    organic   \n",
      "\n",
      "      conversion_rate    revenue  duracionCampaña  roiAjustado  \\\n",
      "0                0.40  709593.48            328.0      -327.65   \n",
      "1                0.66  516609.10            432.0      -431.26   \n",
      "2                0.28  458227.42            295.0      -294.63   \n",
      "3                0.19   89958.73            366.0      -365.53   \n",
      "4                0.81   47511.35            313.0      -312.70   \n",
      "...               ...        ...              ...          ...   \n",
      "1007             0.40  709593.48            328.0      -327.65   \n",
      "1008             0.20   50000.00            244.0      -243.90   \n",
      "1025             0.65  200000.00            151.0      -150.10   \n",
      "1030             0.70   90000.00            -60.0        60.60   \n",
      "1031             1.50  120000.00            184.0      -183.20   \n",
      "\n",
      "      eficienciaCosto  estaciones  estacionesInicio  mesInicio  roiDiario  \n",
      "0           701511.18         2.0               2.0      April   0.001067  \n",
      "1           498896.12         1.0               1.0   February   0.001713  \n",
      "2           373584.32         4.0               4.0   December   0.001254  \n",
      "3            75368.98         3.0               3.0  September   0.001284  \n",
      "4             8219.45         3.0               3.0       July   0.000958  \n",
      "...               ...         ...               ...        ...        ...  \n",
      "1007        701511.18         2.0               2.0      April   0.001067  \n",
      "1008      -9949999.00         3.0               3.0       July   0.000410  \n",
      "1025        125000.00         1.0               1.0    January   0.005960  \n",
      "1030         30000.00         1.0               1.0      March  -0.010000  \n",
      "1031         80000.00         2.0               2.0        May   0.004348  \n",
      "\n",
      "[1006 rows x 17 columns]>\n"
     ]
    }
   ],
   "source": [
    "# Valores faltantes por cada columna\n",
    "print(df_limpioDuplicados.isnull)"
   ]
  },
  {
   "cell_type": "code",
   "execution_count": 46,
   "metadata": {},
   "outputs": [
    {
     "data": {
      "text/plain": [
       "campaign_name               object\n",
       "start_date          datetime64[ns]\n",
       "end_date            datetime64[ns]\n",
       "budget                     float64\n",
       "roi                        float64\n",
       "type                        object\n",
       "target_audience             object\n",
       "channel                     object\n",
       "conversion_rate            float64\n",
       "revenue                    float64\n",
       "duracionCampaña            float64\n",
       "roiAjustado                float64\n",
       "eficienciaCosto            float64\n",
       "estaciones                 float64\n",
       "estacionesInicio           float64\n",
       "mesInicio                   object\n",
       "roiDiario                  float64\n",
       "dtype: object"
      ]
     },
     "execution_count": 46,
     "metadata": {},
     "output_type": "execute_result"
    }
   ],
   "source": [
    "# Tipos de datos finales\n",
    "df_limpioDuplicados.dtypes"
   ]
  },
  {
   "cell_type": "code",
   "execution_count": 48,
   "metadata": {},
   "outputs": [
    {
     "name": "stdout",
     "output_type": "stream",
     "text": [
      "En el dataframe las columnas numéricas son: Index(['budget', 'roi', 'conversion_rate', 'revenue', 'duracionCampaña',\n",
      "       'roiAjustado', 'eficienciaCosto', 'estaciones', 'estacionesInicio',\n",
      "       'roiDiario'],\n",
      "      dtype='object')\n"
     ]
    }
   ],
   "source": [
    "columnasNumericas = df_limpioDuplicados.select_dtypes(include=[np.number]).columns\n",
    "print(f'En el dataframe las columnas numéricas son: {columnasNumericas}')"
   ]
  },
  {
   "cell_type": "code",
   "execution_count": 49,
   "metadata": {},
   "outputs": [
    {
     "name": "stdout",
     "output_type": "stream",
     "text": [
      "Medias de las columnas numéricas: \n",
      "budget               59426.105577\n",
      "roi                      0.536779\n",
      "conversion_rate          0.544483\n",
      "revenue             516023.031014\n",
      "duracionCampaña        366.230846\n",
      "roiAjustado           -365.694179\n",
      "eficienciaCosto     456596.925437\n",
      "estaciones               2.472637\n",
      "estacionesInicio         2.472637\n",
      "roiDiario                0.002158\n",
      "dtype: float64\n"
     ]
    }
   ],
   "source": [
    "medias = df_limpioDuplicados[columnasNumericas].mean()\n",
    "print(\"Medias de las columnas numéricas: \")\n",
    "print(medias)"
   ]
  },
  {
   "cell_type": "code",
   "execution_count": 50,
   "metadata": {},
   "outputs": [
    {
     "name": "stdout",
     "output_type": "stream",
     "text": [
      "Medianas de las columnas numéricas: \n",
      "budget               47210.000000\n",
      "roi                      0.540000\n",
      "conversion_rate          0.550000\n",
      "revenue             522361.965000\n",
      "duracionCampaña        365.000000\n",
      "roiAjustado           -364.040000\n",
      "eficienciaCosto     477542.865000\n",
      "estaciones               3.000000\n",
      "estacionesInicio         3.000000\n",
      "roiDiario                0.001456\n",
      "dtype: float64\n"
     ]
    }
   ],
   "source": [
    "medianas = df_limpioDuplicados[columnasNumericas].median()\n",
    "print(\"Medianas de las columnas numéricas: \")\n",
    "print(medianas)"
   ]
  },
  {
   "cell_type": "code",
   "execution_count": 54,
   "metadata": {},
   "outputs": [],
   "source": [
    "# Creo un dataframe para poder mostrar de manera comoda las medias y medianas de los datos numericos\n",
    "medias_df = pd.DataFrame({\n",
    "    'Columna': medias.index,\n",
    "    'Media' : medias.values\n",
    "}).sort_values('Media', ascending=False)\n",
    "\n",
    "medianas_df = pd.DataFrame({\n",
    "    'Columna': medianas.index,\n",
    "    'Mediana' : medianas.values\n",
    "}).sort_values('Mediana', ascending=False)"
   ]
  },
  {
   "cell_type": "code",
   "execution_count": 62,
   "metadata": {},
   "outputs": [
    {
     "name": "stdout",
     "output_type": "stream",
     "text": [
      "Medias ordenadas de mayor a menor\n",
      "            Columna      Media\n",
      "3           revenue 516,023.03\n",
      "6   eficienciaCosto 456,596.93\n",
      "0            budget  59,426.11\n",
      "4   duracionCampaña     366.23\n",
      "8  estacionesInicio       2.47\n",
      "7        estaciones       2.47\n",
      "2   conversion_rate       0.54\n",
      "1               roi       0.54\n",
      "9         roiDiario       0.00\n",
      "5       roiAjustado    -365.69\n",
      "Medianas ordenadas de mayor a menor\n",
      "            Columna    Mediana\n",
      "3           revenue 522,361.96\n",
      "6   eficienciaCosto 477,542.86\n",
      "0            budget  47,210.00\n",
      "4   duracionCampaña     365.00\n",
      "8  estacionesInicio       3.00\n",
      "7        estaciones       3.00\n",
      "2   conversion_rate       0.55\n",
      "1               roi       0.54\n",
      "9         roiDiario       0.00\n",
      "5       roiAjustado    -364.04\n"
     ]
    }
   ],
   "source": [
    "# Formateo esos dos dataframes para verlos de manera cómoda\n",
    "pd.options.display.float_format = '{:,.2f}'.format\n",
    "print(\"Medias ordenadas de mayor a menor\")\n",
    "print(medias_df)\n",
    "print(\"Medianas ordenadas de mayor a menor\")\n",
    "print(medianas_df)"
   ]
  },
  {
   "cell_type": "code",
   "execution_count": 63,
   "metadata": {},
   "outputs": [
    {
     "name": "stdout",
     "output_type": "stream",
     "text": [
      "Archivo guardado\n"
     ]
    }
   ],
   "source": [
    "# Ahora exporto el df_limpioDuplicados a un archivo csv en la carpeta data\n",
    "df_limpioDuplicados.to_csv('../data/archivoMarketingLimpio.csv', index=False, encoding='utf-8')\n",
    "print(\"Archivo guardado\")"
   ]
  }
 ],
 "metadata": {
  "kernelspec": {
   "display_name": "Python 3",
   "language": "python",
   "name": "python3"
  },
  "language_info": {
   "codemirror_mode": {
    "name": "ipython",
    "version": 3
   },
   "file_extension": ".py",
   "mimetype": "text/x-python",
   "name": "python",
   "nbconvert_exporter": "python",
   "pygments_lexer": "ipython3",
   "version": "3.13.1"
  }
 },
 "nbformat": 4,
 "nbformat_minor": 2
}
